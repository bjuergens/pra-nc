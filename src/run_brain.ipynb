{
 "cells": [
  {
   "cell_type": "code",
   "execution_count": 1,
   "metadata": {},
   "outputs": [],
   "source": [
    "from __future__ import division\n",
    "from math import exp\n",
    "import numpy\n",
    "import neo\n",
    "from quantities import ms\n",
    "from pyNN.utility import get_simulator, init_logging, normalized_filename\n",
    "from pyNN.utility.plotting import DataTable\n",
    "from pyNN.parameters import Sequence\n"
   ]
  },
  {
   "cell_type": "code",
   "execution_count": 2,
   "metadata": {
    "scrolled": true
   },
   "outputs": [
    {
     "name": "stderr",
     "output_type": "stream",
     "text": [
      "/opt/conda/lib/python3.7/site-packages/pyNN/nest/__init__.py:55: UserWarning: Unable to install NEST extensions. Certain models may not be available.\n",
      "Further details: DynamicModuleManagementError in Install: Module 'pynn_extensions' could not be opened.\n",
      "The dynamic loader returned the following error: 'file not found'.\n",
      "\n",
      "Please check LD_LIBRARY_PATH (OSX: DYLD_LIBRARY_PATH)!\n",
      "  warnings.warn(\"Unable to install NEST extensions. Certain models may not be available.\\nFurther details: {}\".format(err))\n"
     ]
    },
    {
     "data": {
      "text/plain": [
       "1.0"
      ]
     },
     "execution_count": 2,
     "metadata": {},
     "output_type": "execute_result"
    }
   ],
   "source": [
    "\n",
    "import pyNN.nest as sim\n",
    "SENSORPARAMS = {'v_rest': -60.5,\n",
    "                'cm': 0.025,\n",
    "                'tau_m': 10.,\n",
    "                'tau_refrac': 10.0,\n",
    "                'tau_syn_E': 2.5,\n",
    "                'tau_syn_I': 2.5,\n",
    "                'e_rev_E': 0.0,\n",
    "                'e_rev_I': -75.0,\n",
    "                'v_thresh': -60.0,\n",
    "                'v_reset': -60.5}\n",
    "\n",
    "GO_ON_PARAMS = {'v_rest': -60.5,\n",
    "                'cm': 0.025,\n",
    "                'tau_m': 10.0,\n",
    "                'e_rev_E': 0.0,\n",
    "                'e_rev_I': -75.0,\n",
    "                'v_reset': -61.6,\n",
    "                'v_thresh': -60.51,\n",
    "                'tau_refrac': 10.0,\n",
    "                'tau_syn_E': 2.5,\n",
    "                'tau_syn_I': 2.5}\n",
    "\n",
    "# POPULATION_PARAMS = SENSORPARAMS * 5 + GO_ON_PARAMS + SENSORPARAMS * 2\n",
    "\n",
    "population = sim.Population(8, sim.IF_cond_alpha())\n",
    "population[0:5].set(**SENSORPARAMS)\n",
    "population[5:6].set(**GO_ON_PARAMS)\n",
    "population[6:8].set(**SENSORPARAMS)\n",
    "\n",
    "# Shared Synapse Parameters\n",
    "syn_params = {'U': 1.0, 'tau_rec': 1.0, 'tau_facil': 1.0}\n",
    "\n",
    "# Synaptic weights\n",
    "WEIGHT_RED_TO_ACTOR = 1.5e-4\n",
    "WEIGHT_RED_TO_GO_ON = 1.2e-3  # or -1.2e-3?\n",
    "WEIGHT_GREEN_BLUE_TO_ACTOR = 1.05e-4\n",
    "WEIGHT_GO_ON_TO_RIGHT_ACTOR = 1.4e-4\n",
    "DELAY = 1\n",
    "\n",
    "# Connect neurons\n",
    "CIRCUIT = population\n",
    "\n",
    "SYN = sim.TsodyksMarkramSynapse(weight=abs(WEIGHT_RED_TO_ACTOR),\n",
    "                                delay=DELAY, **syn_params)\n",
    "sim.Projection(presynaptic_population=CIRCUIT[2:3],\n",
    "               postsynaptic_population=CIRCUIT[7:8],\n",
    "               connector=sim.AllToAllConnector(),\n",
    "               synapse_type=SYN,\n",
    "               receptor_type='excitatory')\n",
    "sim.Projection(presynaptic_population=CIRCUIT[3:4],\n",
    "               postsynaptic_population=CIRCUIT[6:7],\n",
    "               connector=sim.AllToAllConnector(),\n",
    "               synapse_type=SYN,\n",
    "               receptor_type='excitatory')\n",
    "\n",
    "SYN = sim.TsodyksMarkramSynapse(weight=abs(WEIGHT_RED_TO_GO_ON),\n",
    "                                delay=DELAY, **syn_params)\n",
    "sim.Projection(presynaptic_population=CIRCUIT[0:2],\n",
    "               postsynaptic_population=CIRCUIT[4:5],\n",
    "               connector=sim.AllToAllConnector(),\n",
    "               synapse_type=SYN,\n",
    "               receptor_type='inhibitory')\n",
    "sim.Projection(presynaptic_population=CIRCUIT[0:2],\n",
    "               postsynaptic_population=CIRCUIT[5:6],\n",
    "               connector=sim.AllToAllConnector(),\n",
    "               synapse_type=SYN,\n",
    "               receptor_type='inhibitory')\n",
    "\n",
    "SYN = sim.TsodyksMarkramSynapse(weight=abs(WEIGHT_GREEN_BLUE_TO_ACTOR),\n",
    "                                delay=DELAY, **syn_params)\n",
    "sim.Projection(presynaptic_population=CIRCUIT[4:5],\n",
    "               postsynaptic_population=CIRCUIT[7:8],\n",
    "               connector=sim.AllToAllConnector(),\n",
    "               synapse_type=SYN,\n",
    "               receptor_type='excitatory')\n",
    "\n",
    "SYN = sim.TsodyksMarkramSynapse(weight=abs(WEIGHT_GO_ON_TO_RIGHT_ACTOR),\n",
    "                                delay=DELAY, **syn_params)\n",
    "sim.Projection(presynaptic_population=CIRCUIT[5:6],\n",
    "               postsynaptic_population=CIRCUIT[7:8],\n",
    "               connector=sim.AllToAllConnector(),\n",
    "               synapse_type=SYN,\n",
    "               receptor_type='excitatory')\n",
    "\n",
    "sim.initialize(population, v=population.get('v_rest'))\n",
    "\n",
    "# print(\"Circuit description: \" + str(population.describe()))\n",
    "\n",
    "\n",
    "sim.setup(timestep=1, min_delay=1, max_delay=3)\n",
    "sim.run(1)\n"
   ]
  },
  {
   "cell_type": "code",
   "execution_count": 3,
   "metadata": {},
   "outputs": [],
   "source": [
    "import pyNN.standardmodels as sm\n",
    "# dir(sm.cells.SpikeSourcePoisson)"
   ]
  },
  {
   "cell_type": "code",
   "execution_count": 4,
   "metadata": {
    "scrolled": true
   },
   "outputs": [
    {
     "name": "stdout",
     "output_type": "stream",
     "text": [
      "[]\n"
     ]
    }
   ],
   "source": [
    "s =  population.get_data().segments[0]\n",
    "print(s.spiketrains)\n",
    "# print(population.meanSpikeCount())"
   ]
  },
  {
   "cell_type": "code",
   "execution_count": 7,
   "metadata": {
    "scrolled": true
   },
   "outputs": [
    {
     "ename": "TypeError",
     "evalue": "'type' object is not subscriptable",
     "output_type": "error",
     "traceback": [
      "\u001b[0;31m---------------------------------------------------------------------------\u001b[0m",
      "\u001b[0;31mTypeError\u001b[0m                                 Traceback (most recent call last)",
      "\u001b[0;32m<ipython-input-7-49fb7df9d819>\u001b[0m in \u001b[0;36m<module>\u001b[0;34m\u001b[0m\n\u001b[1;32m      1\u001b[0m \u001b[0mpulse\u001b[0m \u001b[0;34m=\u001b[0m \u001b[0msim\u001b[0m\u001b[0;34m.\u001b[0m\u001b[0mDCSource\u001b[0m\u001b[0;34m(\u001b[0m\u001b[0mamplitude\u001b[0m\u001b[0;34m=\u001b[0m\u001b[0;36m0.5\u001b[0m\u001b[0;34m,\u001b[0m \u001b[0mstart\u001b[0m\u001b[0;34m=\u001b[0m\u001b[0;36m20.0\u001b[0m\u001b[0;34m,\u001b[0m \u001b[0mstop\u001b[0m\u001b[0;34m=\u001b[0m\u001b[0;36m80.0\u001b[0m\u001b[0;34m)\u001b[0m\u001b[0;34m\u001b[0m\u001b[0;34m\u001b[0m\u001b[0m\n\u001b[0;32m----> 2\u001b[0;31m \u001b[0mpulse\u001b[0m\u001b[0;34m.\u001b[0m\u001b[0minject_into\u001b[0m\u001b[0;34m(\u001b[0m\u001b[0msim\u001b[0m\u001b[0;34m.\u001b[0m\u001b[0mPopulation\u001b[0m\u001b[0;34m[\u001b[0m\u001b[0;36m0\u001b[0m\u001b[0;34m:\u001b[0m\u001b[0;36m3\u001b[0m\u001b[0;34m]\u001b[0m\u001b[0;34m)\u001b[0m\u001b[0;34m\u001b[0m\u001b[0;34m\u001b[0m\u001b[0m\n\u001b[0m\u001b[1;32m      3\u001b[0m \u001b[0;31m# p4.inject(pulse)\u001b[0m\u001b[0;34m\u001b[0m\u001b[0;34m\u001b[0m\u001b[0;34m\u001b[0m\u001b[0m\n",
      "\u001b[0;31mTypeError\u001b[0m: 'type' object is not subscriptable"
     ]
    }
   ],
   "source": [
    "pulse = sim.DCSource(amplitude=0.5, start=20.0, stop=80.0)\n",
    "pulse.inject_into(sim.Population[0:3])\n",
    "# p4.inject(pulse)\n"
   ]
  },
  {
   "cell_type": "code",
   "execution_count": 6,
   "metadata": {},
   "outputs": [],
   "source": [
    "?sim.Population"
   ]
  },
  {
   "cell_type": "code",
   "execution_count": 8,
   "metadata": {},
   "outputs": [],
   "source": [
    "\n",
    "from pyNN.utility.plotting import Figure, Panel, DataTable\n",
    "# Figure(Panel(s.spiketrains, yticks=True, markersize=0.2, xlim=(0, 1000)))"
   ]
  },
  {
   "cell_type": "code",
   "execution_count": 13,
   "metadata": {
    "scrolled": true
   },
   "outputs": [
    {
     "ename": "Exception",
     "evalue": "Can't handle type <class 'list'>",
     "output_type": "error",
     "traceback": [
      "\u001b[0;31m---------------------------------------------------------------------------\u001b[0m",
      "\u001b[0;31mException\u001b[0m                                 Traceback (most recent call last)",
      "\u001b[0;32m<ipython-input-13-f3590703ef83>\u001b[0m in \u001b[0;36m<module>\u001b[0;34m\u001b[0m\n\u001b[1;32m      1\u001b[0m \u001b[0;34m\u001b[0m\u001b[0m\n\u001b[1;32m      2\u001b[0m \u001b[0;32mfrom\u001b[0m \u001b[0mpyNN\u001b[0m\u001b[0;34m.\u001b[0m\u001b[0mutility\u001b[0m\u001b[0;34m.\u001b[0m\u001b[0mplotting\u001b[0m \u001b[0;32mimport\u001b[0m \u001b[0mFigure\u001b[0m\u001b[0;34m,\u001b[0m \u001b[0mPanel\u001b[0m\u001b[0;34m,\u001b[0m \u001b[0mDataTable\u001b[0m\u001b[0;34m\u001b[0m\u001b[0;34m\u001b[0m\u001b[0m\n\u001b[0;32m----> 3\u001b[0;31m \u001b[0mFigure\u001b[0m\u001b[0;34m(\u001b[0m\u001b[0mPanel\u001b[0m\u001b[0;34m(\u001b[0m\u001b[0ms\u001b[0m\u001b[0;34m.\u001b[0m\u001b[0mspiketrains\u001b[0m\u001b[0;34m,\u001b[0m \u001b[0myticks\u001b[0m\u001b[0;34m=\u001b[0m\u001b[0;32mTrue\u001b[0m\u001b[0;34m,\u001b[0m \u001b[0mmarkersize\u001b[0m\u001b[0;34m=\u001b[0m\u001b[0;36m0.2\u001b[0m\u001b[0;34m,\u001b[0m \u001b[0mxlim\u001b[0m\u001b[0;34m=\u001b[0m\u001b[0;34m(\u001b[0m\u001b[0;36m0\u001b[0m\u001b[0;34m,\u001b[0m \u001b[0;36m1000\u001b[0m\u001b[0;34m)\u001b[0m\u001b[0;34m)\u001b[0m\u001b[0;34m)\u001b[0m\u001b[0;34m\u001b[0m\u001b[0;34m\u001b[0m\u001b[0m\n\u001b[0m",
      "\u001b[0;32m/opt/conda/lib/python3.7/site-packages/pyNN/utility/plotting.py\u001b[0m in \u001b[0;36m__init__\u001b[0;34m(self, *panels, **options)\u001b[0m\n\u001b[1;32m    199\u001b[0m \u001b[0;34m\u001b[0m\u001b[0m\n\u001b[1;32m    200\u001b[0m         \u001b[0;32mfor\u001b[0m \u001b[0mi\u001b[0m\u001b[0;34m,\u001b[0m \u001b[0mpanel\u001b[0m \u001b[0;32min\u001b[0m \u001b[0menumerate\u001b[0m\u001b[0;34m(\u001b[0m\u001b[0mpanels\u001b[0m\u001b[0;34m)\u001b[0m\u001b[0;34m:\u001b[0m\u001b[0;34m\u001b[0m\u001b[0;34m\u001b[0m\u001b[0m\n\u001b[0;32m--> 201\u001b[0;31m             \u001b[0mpanel\u001b[0m\u001b[0;34m.\u001b[0m\u001b[0mplot\u001b[0m\u001b[0;34m(\u001b[0m\u001b[0mplt\u001b[0m\u001b[0;34m.\u001b[0m\u001b[0msubplot\u001b[0m\u001b[0;34m(\u001b[0m\u001b[0mgs\u001b[0m\u001b[0;34m[\u001b[0m\u001b[0mi\u001b[0m\u001b[0;34m,\u001b[0m \u001b[0;36m0\u001b[0m\u001b[0;34m]\u001b[0m\u001b[0;34m)\u001b[0m\u001b[0;34m)\u001b[0m\u001b[0;34m\u001b[0m\u001b[0;34m\u001b[0m\u001b[0m\n\u001b[0m\u001b[1;32m    202\u001b[0m \u001b[0;34m\u001b[0m\u001b[0m\n\u001b[1;32m    203\u001b[0m         \u001b[0;32mif\u001b[0m \u001b[0;34m\"title\"\u001b[0m \u001b[0;32min\u001b[0m \u001b[0moptions\u001b[0m\u001b[0;34m:\u001b[0m\u001b[0;34m\u001b[0m\u001b[0;34m\u001b[0m\u001b[0m\n",
      "\u001b[0;32m/opt/conda/lib/python3.7/site-packages/pyNN/utility/plotting.py\u001b[0m in \u001b[0;36mplot\u001b[0;34m(self, axes)\u001b[0m\n\u001b[1;32m    263\u001b[0m                     \u001b[0;32mraise\u001b[0m \u001b[0mException\u001b[0m\u001b[0;34m(\u001b[0m\u001b[0;34m\"Can't handle arrays with %s dimensions\"\u001b[0m \u001b[0;34m%\u001b[0m \u001b[0mdatum\u001b[0m\u001b[0;34m.\u001b[0m\u001b[0mndim\u001b[0m\u001b[0;34m)\u001b[0m\u001b[0;34m\u001b[0m\u001b[0;34m\u001b[0m\u001b[0m\n\u001b[1;32m    264\u001b[0m             \u001b[0;32melse\u001b[0m\u001b[0;34m:\u001b[0m\u001b[0;34m\u001b[0m\u001b[0;34m\u001b[0m\u001b[0m\n\u001b[0;32m--> 265\u001b[0;31m                 \u001b[0;32mraise\u001b[0m \u001b[0mException\u001b[0m\u001b[0;34m(\u001b[0m\u001b[0;34m\"Can't handle type %s\"\u001b[0m \u001b[0;34m%\u001b[0m \u001b[0mtype\u001b[0m\u001b[0;34m(\u001b[0m\u001b[0mdatum\u001b[0m\u001b[0;34m)\u001b[0m\u001b[0;34m)\u001b[0m\u001b[0;34m\u001b[0m\u001b[0;34m\u001b[0m\u001b[0m\n\u001b[0m\u001b[1;32m    266\u001b[0m \u001b[0;34m\u001b[0m\u001b[0m\n\u001b[1;32m    267\u001b[0m \u001b[0;34m\u001b[0m\u001b[0m\n",
      "\u001b[0;31mException\u001b[0m: Can't handle type <class 'list'>"
     ]
    },
    {
     "data": {
      "image/png": "[encoded data removed]",
      "text/plain": [
       "<Figure size 432x230.4 with 1 Axes>"
      ]
     },
     "metadata": {
      "needs_background": "light"
     },
     "output_type": "display_data"
    }
   ],
   "source": [
    "\n",
    "from pyNN.utility.plotting import Figure, Panel, DataTable\n",
    "# Figure(Panel(s.spiketrains, yticks=True, markersize=0.2, xlim=(0, 1000)))"
   ]
  },
  {
   "cell_type": "code",
   "execution_count": 9,
   "metadata": {
    "scrolled": true
   },
   "outputs": [
    {
     "ename": "NotImplementedError",
     "evalue": "Should be redefined in the local simulator electrodes",
     "output_type": "error",
     "traceback": [
      "\u001b[0;31m---------------------------------------------------------------------------\u001b[0m",
      "\u001b[0;31mNotImplementedError\u001b[0m                       Traceback (most recent call last)",
      "\u001b[0;32m<ipython-input-9-8c0f3eba323b>\u001b[0m in \u001b[0;36m<module>\u001b[0;34m\u001b[0m\n\u001b[1;32m      2\u001b[0m \u001b[0;32mfrom\u001b[0m \u001b[0mpyNN\u001b[0m\u001b[0;34m.\u001b[0m\u001b[0mstandardmodels\u001b[0m\u001b[0;34m.\u001b[0m\u001b[0melectrodes\u001b[0m \u001b[0;32mimport\u001b[0m \u001b[0;34m*\u001b[0m\u001b[0;34m\u001b[0m\u001b[0;34m\u001b[0m\u001b[0m\n\u001b[1;32m      3\u001b[0m \u001b[0mpulse\u001b[0m \u001b[0;34m=\u001b[0m \u001b[0mNoisyCurrentSource\u001b[0m\u001b[0;34m(\u001b[0m\u001b[0mmean\u001b[0m\u001b[0;34m=\u001b[0m\u001b[0;36m0.5\u001b[0m\u001b[0;34m,\u001b[0m \u001b[0mstdev\u001b[0m\u001b[0;34m=\u001b[0m \u001b[0;36m1\u001b[0m\u001b[0;34m,\u001b[0m \u001b[0mstart\u001b[0m\u001b[0;34m=\u001b[0m\u001b[0;36m2.0\u001b[0m\u001b[0;34m,\u001b[0m \u001b[0mstop\u001b[0m\u001b[0;34m=\u001b[0m\u001b[0;36m10.0\u001b[0m\u001b[0;34m)\u001b[0m\u001b[0;34m\u001b[0m\u001b[0;34m\u001b[0m\u001b[0m\n\u001b[0;32m----> 4\u001b[0;31m \u001b[0mpopulation\u001b[0m\u001b[0;34m[\u001b[0m\u001b[0;36m1\u001b[0m\u001b[0;34m]\u001b[0m\u001b[0;34m.\u001b[0m\u001b[0minject\u001b[0m\u001b[0;34m(\u001b[0m\u001b[0mpulse\u001b[0m\u001b[0;34m)\u001b[0m\u001b[0;34m\u001b[0m\u001b[0;34m\u001b[0m\u001b[0m\n\u001b[0m",
      "\u001b[0;32m/opt/conda/lib/python3.7/site-packages/pyNN/common/populations.py\u001b[0m in \u001b[0;36minject\u001b[0;34m(self, current_source)\u001b[0m\n\u001b[1;32m    131\u001b[0m     \u001b[0;32mdef\u001b[0m \u001b[0minject\u001b[0m\u001b[0;34m(\u001b[0m\u001b[0mself\u001b[0m\u001b[0;34m,\u001b[0m \u001b[0mcurrent_source\u001b[0m\u001b[0;34m)\u001b[0m\u001b[0;34m:\u001b[0m\u001b[0;34m\u001b[0m\u001b[0;34m\u001b[0m\u001b[0m\n\u001b[1;32m    132\u001b[0m         \u001b[0;34m\"\"\"Inject current from a current source object into the cell.\"\"\"\u001b[0m\u001b[0;34m\u001b[0m\u001b[0;34m\u001b[0m\u001b[0m\n\u001b[0;32m--> 133\u001b[0;31m         \u001b[0mcurrent_source\u001b[0m\u001b[0;34m.\u001b[0m\u001b[0minject_into\u001b[0m\u001b[0;34m(\u001b[0m\u001b[0;34m[\u001b[0m\u001b[0mself\u001b[0m\u001b[0;34m]\u001b[0m\u001b[0;34m)\u001b[0m\u001b[0;34m\u001b[0m\u001b[0;34m\u001b[0m\u001b[0m\n\u001b[0m\u001b[1;32m    134\u001b[0m \u001b[0;34m\u001b[0m\u001b[0m\n\u001b[1;32m    135\u001b[0m     \u001b[0;32mdef\u001b[0m \u001b[0mget_initial_value\u001b[0m\u001b[0;34m(\u001b[0m\u001b[0mself\u001b[0m\u001b[0;34m,\u001b[0m \u001b[0mvariable\u001b[0m\u001b[0;34m)\u001b[0m\u001b[0;34m:\u001b[0m\u001b[0;34m\u001b[0m\u001b[0;34m\u001b[0m\u001b[0m\n",
      "\u001b[0;32m/opt/conda/lib/python3.7/site-packages/pyNN/standardmodels/__init__.py\u001b[0m in \u001b[0;36minject_into\u001b[0;34m(self, cells)\u001b[0m\n\u001b[1;32m    161\u001b[0m         \u001b[0;34m:\u001b[0m\u001b[0;32mclass\u001b[0m\u001b[0;34m:\u001b[0m\u001b[0;31m`\u001b[0m\u001b[0mAssembly\u001b[0m\u001b[0;31m`\u001b[0m \u001b[0;32mor\u001b[0m \u001b[0ma\u001b[0m \u001b[0mlist\u001b[0m \u001b[0mof\u001b[0m \u001b[0;34m:\u001b[0m\u001b[0;32mclass\u001b[0m\u001b[0;34m:\u001b[0m\u001b[0;31m`\u001b[0m\u001b[0mID\u001b[0m\u001b[0;31m`\u001b[0m \u001b[0mobjects\u001b[0m\u001b[0;34m.\u001b[0m\u001b[0;34m\u001b[0m\u001b[0;34m\u001b[0m\u001b[0m\n\u001b[1;32m    162\u001b[0m         \"\"\"\n\u001b[0;32m--> 163\u001b[0;31m         \u001b[0;32mraise\u001b[0m \u001b[0mNotImplementedError\u001b[0m\u001b[0;34m(\u001b[0m\u001b[0;34m\"Should be redefined in the local simulator electrodes\"\u001b[0m\u001b[0;34m)\u001b[0m\u001b[0;34m\u001b[0m\u001b[0;34m\u001b[0m\u001b[0m\n\u001b[0m\u001b[1;32m    164\u001b[0m \u001b[0;34m\u001b[0m\u001b[0m\n\u001b[1;32m    165\u001b[0m     \u001b[0;32mdef\u001b[0m \u001b[0m__getattr__\u001b[0m\u001b[0;34m(\u001b[0m\u001b[0mself\u001b[0m\u001b[0;34m,\u001b[0m \u001b[0mname\u001b[0m\u001b[0;34m)\u001b[0m\u001b[0;34m:\u001b[0m\u001b[0;34m\u001b[0m\u001b[0;34m\u001b[0m\u001b[0m\n",
      "\u001b[0;31mNotImplementedError\u001b[0m: Should be redefined in the local simulator electrodes"
     ]
    }
   ],
   "source": [
    "\n",
    "from pyNN.standardmodels.electrodes import *\n",
    "pulse = NoisyCurrentSource(mean=0.5, stdev= 1, start=2.0, stop=10.0)\n",
    "population[1].inject(pulse)"
   ]
  },
  {
   "cell_type": "code",
   "execution_count": 65,
   "metadata": {
    "scrolled": true
   },
   "outputs": [
    {
     "name": "stdout",
     "output_type": "stream",
     "text": [
      "3\n",
      "4\n",
      "5\n",
      "6\n",
      "7\n",
      "8\n",
      "9\n",
      "10\n"
     ]
    }
   ],
   "source": [
    "for a in population.local_cells:\n",
    "    print(a)"
   ]
  },
  {
   "cell_type": "code",
   "execution_count": 10,
   "metadata": {},
   "outputs": [
    {
     "name": "stdout",
     "output_type": "stream",
     "text": [
      "�\u0003cneo.core.block\r\n",
      "Block\r\n",
      "q\u0000)�q\u0001}q\u0002(X\u000b",
      "\u0000\u0000\u0000annotationsq\u0003}q\u0004(X\u0004\u0000\u0000\u0000sizeq\u0005K\bX\u000b",
      "\u0000\u0000\u0000first_indexq\u0006K\u0000X\r\n",
      "\u0000\u0000\u0000last_indexq\u0007K\bX\b\u0000\u0000\u0000first_idq\bK\u0003X\u0007\u0000\u0000\u0000last_idq\tK\r\n",
      "X\u0005\u0000\u0000\u0000labelq\r\n",
      "X\u000b",
      "\u0000\u0000\u0000population6q\u000b",
      "X\t\u0000\u0000\u0000simulatorq\f",
      "X\u0004\u0000\u0000\u0000NESTq\r",
      "X\u0002\u0000\u0000\u0000dtq\u000eG?�\u0000\u0000\u0000\u0000\u0000\u0000X\r",
      "\u0000\u0000\u0000mpi_processesq\u000fK\u0001uX\u0004\u0000\u0000\u0000nameq\u0010h\u000b",
      "X\u000b",
      "\u0000\u0000\u0000descriptionq\u0011X�\u0005\u0000\u0000Population \"population6\"\r\n",
      "    Structure   : {'name': 'Line', 'parameters': {'dx': 1.0, 'x0': 0.0, 'y': 0.0, 'z': 0.0}}\r\n",
      "    Local cells : 8\r\n",
      "    Cell type   : {'name': 'IF_cond_alpha', 'default_parameters': {'v_rest': -65.0, 'cm': 1.0, 'tau_m': 20.0, 'tau_refrac': 0.1, 'tau_syn_E': 0.3, 'tau_syn_I': 0.5, 'e_rev_E': 0.0, 'e_rev_I': -70.0, 'v_thresh': -50.0, 'v_reset': -65.0, 'i_offset': 0.0}, 'default_initial_values': {'v': -65.0, 'gsyn_exc': 0.0, 'gsyn_inh': 0.0}, 'parameters': {'v_rest': <larray: base_value=-65.0 shape=(8,) dtype=<class 'float'>, operations=[]>, 'cm': <larray: base_value=1.0 shape=(8,) dtype=<class 'float'>, operations=[]>, 'tau_m': <larray: base_value=20.0 shape=(8,) dtype=<class 'float'>, operations=[]>, 'tau_refrac': <larray: base_value=0.1 shape=(8,) dtype=<class 'float'>, operations=[]>, 'tau_syn_E': <larray: base_value=0.3 shape=(8,) dtype=<class 'float'>, operations=[]>, 'tau_syn_I': <larray: base_value=0.5 shape=(8,) dtype=<class 'float'>, operations=[]>, 'e_rev_E': <larray: base_value=0.0 shape=(8,) dtype=<class 'float'>, operations=[]>, 'e_rev_I': <larray: base_value=-70.0 shape=(8,) dtype=<class 'float'>, operations=[]>, 'v_thresh': <larray: base_value=-50.0 shape=(8,) dtype=<class 'float'>, operations=[]>, 'v_reset': <larray: base_value=-65.0 shape=(8,) dtype=<class 'float'>, operations=[]>, 'i_offset': <larray: base_value=0.0 shape=(8,) dtype=<class 'float'>, operations=[]>}}.name\r\n",
      "    ID range    : 3-10\r\n",
      "    First cell on this node:\r\n",
      "      ID: 3\r\n",
      "      {}q\u0012X\u000b",
      "\u0000\u0000\u0000file_originq\u0013NX\b\u0000\u0000\u0000segmentsq\u0014]q\u0015cneo.core.segment\r\n",
      "Segment\r\n",
      "q\u0016)�q\u0017}q\u0018(h\u0003}q\u0019h\u0010X\r\n",
      "\u0000\u0000\u0000segment000q\u001ah\u0011X�\u0005\u0000\u0000Population \"population6\"\r\n",
      "    Structure   : {'name': 'Line', 'parameters': {'dx': 1.0, 'x0': 0.0, 'y': 0.0, 'z': 0.0}}\r\n",
      "    Local cells : 8\r\n",
      "    Cell type   : {'name': 'IF_cond_alpha', 'default_parameters': {'v_rest': -65.0, 'cm': 1.0, 'tau_m': 20.0, 'tau_refrac': 0.1, 'tau_syn_E': 0.3, 'tau_syn_I': 0.5, 'e_rev_E': 0.0, 'e_rev_I': -70.0, 'v_thresh': -50.0, 'v_reset': -65.0, 'i_offset': 0.0}, 'default_initial_values': {'v': -65.0, 'gsyn_exc': 0.0, 'gsyn_inh': 0.0}, 'parameters': {'v_rest': <larray: base_value=-65.0 shape=(8,) dtype=<class 'float'>, operations=[]>, 'cm': <larray: base_value=1.0 shape=(8,) dtype=<class 'float'>, operations=[]>, 'tau_m': <larray: base_value=20.0 shape=(8,) dtype=<class 'float'>, operations=[]>, 'tau_refrac': <larray: base_value=0.1 shape=(8,) dtype=<class 'float'>, operations=[]>, 'tau_syn_E': <larray: base_value=0.3 shape=(8,) dtype=<class 'float'>, operations=[]>, 'tau_syn_I': <larray: base_value=0.5 shape=(8,) dtype=<class 'float'>, operations=[]>, 'e_rev_E': <larray: base_value=0.0 shape=(8,) dtype=<class 'float'>, operations=[]>, 'e_rev_I': <larray: base_value=-70.0 shape=(8,) dtype=<class 'float'>, operations=[]>, 'v_thresh': <larray: base_value=-50.0 shape=(8,) dtype=<class 'float'>, operations=[]>, 'v_reset': <larray: base_value=-65.0 shape=(8,) dtype=<class 'float'>, operations=[]>, 'i_offset': <larray: base_value=0.0 shape=(8,) dtype=<class 'float'>, operations=[]>}}.name\r\n",
      "    ID range    : 3-10\r\n",
      "    First cell on this node:\r\n",
      "      ID: 3\r\n",
      "      {}q\u001bh\u0013NX\u0005\u0000\u0000\u0000blockq\u001c",
      "NX\r",
      "\u0000\u0000\u0000analogsignalsq\u001d",
      "]q\u001e",
      "X\u0006\u0000\u0000\u0000epochsq\u001f]q X\u0006\u0000\u0000\u0000eventsq!]q\"X\u0019\u0000\u0000\u0000irregularlysampledsignalsq#]q$X\u000b",
      "\u0000\u0000\u0000spiketrainsq%]q&X\r",
      "\u0000\u0000\u0000file_datetimeq'NX\f",
      "\u0000\u0000\u0000rec_datetimeq(cdatetime\r\n",
      "datetime\r\n",
      "q)C\r\n",
      "\u0007�\u0006\u0019\f",
      "'-\u0003jvq*�q+Rq,X\u0005\u0000\u0000\u0000indexq-NubaX\u000f\u0000\u0000\u0000channel_indexesq.]q/h'Nh(h,h-Nub."
     ]
    }
   ],
   "source": [
    "!cat b.pkl"
   ]
  },
  {
   "cell_type": "code",
   "execution_count": 53,
   "metadata": {
    "scrolled": true
   },
   "outputs": [
    {
     "data": {
      "text/plain": [
       "['__add__',\n",
       " '__class__',\n",
       " '__delattr__',\n",
       " '__dict__',\n",
       " '__dir__',\n",
       " '__doc__',\n",
       " '__eq__',\n",
       " '__format__',\n",
       " '__ge__',\n",
       " '__getattribute__',\n",
       " '__getitem__',\n",
       " '__gt__',\n",
       " '__hash__',\n",
       " '__init__',\n",
       " '__init_subclass__',\n",
       " '__iter__',\n",
       " '__le__',\n",
       " '__len__',\n",
       " '__lt__',\n",
       " '__module__',\n",
       " '__ne__',\n",
       " '__new__',\n",
       " '__reduce__',\n",
       " '__reduce_ex__',\n",
       " '__repr__',\n",
       " '__setattr__',\n",
       " '__sizeof__',\n",
       " '__str__',\n",
       " '__subclasshook__',\n",
       " '__weakref__',\n",
       " '_assembly_class',\n",
       " '_connect_parrot_neurons',\n",
       " '_create_cells',\n",
       " '_deferred_parrot_connections',\n",
       " '_get_cell_initial_value',\n",
       " '_get_cell_position',\n",
       " '_get_parameters',\n",
       " '_get_positions',\n",
       " '_get_structure',\n",
       " '_get_view',\n",
       " '_is_sorted',\n",
       " '_mask_local',\n",
       " '_nPop',\n",
       " '_positions',\n",
       " '_record_filter',\n",
       " '_recorder_class',\n",
       " '_set_cell_initial_value',\n",
       " '_set_cell_position',\n",
       " '_set_initial_value_array',\n",
       " '_set_parameters',\n",
       " '_set_positions',\n",
       " '_set_structure',\n",
       " '_simulator',\n",
       " '_structure',\n",
       " 'all',\n",
       " 'all_cells',\n",
       " 'annotate',\n",
       " 'annotations',\n",
       " 'can_record',\n",
       " 'celltype',\n",
       " 'conductance_based',\n",
       " 'describe',\n",
       " 'find_units',\n",
       " 'first_id',\n",
       " 'get',\n",
       " 'getSpikes',\n",
       " 'get_data',\n",
       " 'get_gsyn',\n",
       " 'get_spike_counts',\n",
       " 'get_v',\n",
       " 'id_to_index',\n",
       " 'id_to_local_index',\n",
       " 'initial_values',\n",
       " 'initialize',\n",
       " 'inject',\n",
       " 'injectable',\n",
       " 'is_local',\n",
       " 'label',\n",
       " 'last_id',\n",
       " 'local_cells',\n",
       " 'local_size',\n",
       " 'meanSpikeCount',\n",
       " 'mean_spike_count',\n",
       " 'nearest',\n",
       " 'position_generator',\n",
       " 'positions',\n",
       " 'printSpikes',\n",
       " 'print_gsyn',\n",
       " 'print_v',\n",
       " 'receptor_types',\n",
       " 'record',\n",
       " 'record_gsyn',\n",
       " 'record_v',\n",
       " 'recorder',\n",
       " 'rset',\n",
       " 'sample',\n",
       " 'save_positions',\n",
       " 'set',\n",
       " 'size',\n",
       " 'structure',\n",
       " 'tset',\n",
       " 'write_data']"
      ]
     },
     "execution_count": 53,
     "metadata": {},
     "output_type": "execute_result"
    }
   ],
   "source": [
    "dir(population)"
   ]
  }
 ],
 "metadata": {
  "kernelspec": {
   "display_name": "Python 3",
   "language": "python",
   "name": "python3"
  },
  "language_info": {
   "codemirror_mode": {
    "name": "ipython",
    "version": 3
   },
   "file_extension": ".py",
   "mimetype": "text/x-python",
   "name": "python",
   "nbconvert_exporter": "python",
   "pygments_lexer": "ipython3",
   "version": "3.7.3"
  }
 },
 "nbformat": 4,
 "nbformat_minor": 2
}
