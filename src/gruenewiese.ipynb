{
 "cells": [
  {
   "cell_type": "code",
   "execution_count": 34,
   "metadata": {
    "scrolled": true
   },
   "outputs": [],
   "source": [
    "%matplotlib inline\n",
    "import pyNN.nest as sim\n",
    "import pyNN.nest as sim\n",
    "from pyNN.utility import get_simulator, normalized_filename\n",
    "\n",
    "def get_pop():\n",
    "\n",
    "    SENSORPARAMS = {'v_rest': -60.5,\n",
    "                    'cm': 0.025,\n",
    "                    'tau_m': 10.,\n",
    "                    'tau_refrac': 10.0,\n",
    "                    'tau_syn_E': 2.5,\n",
    "                    'tau_syn_I': 2.5,\n",
    "                    'e_rev_E': 0.0,\n",
    "                    'e_rev_I': -75.0,\n",
    "                    'v_thresh': -60.0,\n",
    "                    'v_reset': -60.5}\n",
    "\n",
    "    GO_ON_PARAMS = {'v_rest': -60.5,\n",
    "                    'cm': 0.025,\n",
    "                    'tau_m': 10.0,\n",
    "                    'e_rev_E': 0.0,\n",
    "                    'e_rev_I': -75.0,\n",
    "                    'v_reset': -61.6,\n",
    "                    'v_thresh': -60.51,\n",
    "                    'tau_refrac': 10.0,\n",
    "                    'tau_syn_E': 2.5,\n",
    "                    'tau_syn_I': 2.5}\n",
    "\n",
    "    SENSORPARAMS = {'v_rest': -60.5,\n",
    "                    'cm': 0.025,\n",
    "                    'tau_m': 10.,\n",
    "                    'tau_refrac': 10.0,\n",
    "                    'tau_syn_E': 2.5,\n",
    "                    'tau_syn_I': 2.5,\n",
    "                    'e_rev_E': 0.0,\n",
    "                    'e_rev_I': -75.0,\n",
    "                    'v_thresh': -60.0,\n",
    "                    'v_reset': -60.5}\n",
    "\n",
    "    GO_ON_PARAMS = {'v_rest': -60.5,\n",
    "                    'cm': 0.025,\n",
    "                    'tau_m': 10.0,\n",
    "                    'e_rev_E': 0.0,\n",
    "                    'e_rev_I': -75.0,\n",
    "                    'v_reset': -61.6,\n",
    "                    'v_thresh': -60.51,\n",
    "                    'tau_refrac': 10.0,\n",
    "                    'tau_syn_E': 2.5,\n",
    "                    'tau_syn_I': 2.5}\n",
    "\n",
    "    population = sim.Population(8, sim.IF_cond_alpha())\n",
    "    population[0:5].set(**SENSORPARAMS)\n",
    "    population[5:6].set(**GO_ON_PARAMS)\n",
    "    population[6:8].set(**SENSORPARAMS)\n",
    "\n",
    "    syn_params = {'U': 1.0, 'tau_rec': 1.0, 'tau_facil': 1.0}\n",
    "\n",
    "    # Synaptic weights\n",
    "    WEIGHT_RED_TO_ACTOR = 1.5e-4\n",
    "    WEIGHT_RED_TO_GO_ON = 1.2e-3  # or -1.2e-3?\n",
    "    WEIGHT_GREEN_BLUE_TO_ACTOR = 1.05e-4\n",
    "    WEIGHT_GO_ON_TO_RIGHT_ACTOR = 1.4e-4\n",
    "    DELAY = 1\n",
    "\n",
    "    # Connect neurons\n",
    "    CIRCUIT = population\n",
    "\n",
    "\n",
    "    SYN = sim.TsodyksMarkramSynapse(weight=abs(WEIGHT_RED_TO_ACTOR),\n",
    "                                    delay=DELAY, **syn_params)\n",
    "    sim.Projection(presynaptic_population=CIRCUIT[2:3],\n",
    "                   postsynaptic_population=CIRCUIT[7:8],\n",
    "                   connector=sim.AllToAllConnector(),\n",
    "                   synapse_type=SYN,\n",
    "                   receptor_type='excitatory')\n",
    "    sim.Projection(presynaptic_population=CIRCUIT[3:4],\n",
    "                   postsynaptic_population=CIRCUIT[6:7],\n",
    "                   connector=sim.AllToAllConnector(),\n",
    "                   synapse_type=SYN,\n",
    "                   receptor_type='excitatory')\n",
    "\n",
    "\n",
    "    SYN = sim.TsodyksMarkramSynapse(weight=abs(WEIGHT_RED_TO_GO_ON),\n",
    "                                    delay=DELAY, **syn_params)\n",
    "    sim.Projection(presynaptic_population=CIRCUIT[0:2],\n",
    "                   postsynaptic_population=CIRCUIT[4:5],\n",
    "                   connector=sim.AllToAllConnector(),\n",
    "                   synapse_type=SYN,\n",
    "                   receptor_type='inhibitory')\n",
    "    sim.Projection(presynaptic_population=CIRCUIT[0:2],\n",
    "                   postsynaptic_population=CIRCUIT[5:6],\n",
    "                   connector=sim.AllToAllConnector(),\n",
    "                   synapse_type=SYN,\n",
    "                   receptor_type='inhibitory')\n",
    "\n",
    "    SYN = sim.TsodyksMarkramSynapse(weight=abs(WEIGHT_GREEN_BLUE_TO_ACTOR),\n",
    "                                    delay=DELAY, **syn_params)\n",
    "    sim.Projection(presynaptic_population=CIRCUIT[4:5],\n",
    "                   postsynaptic_population=CIRCUIT[7:8],\n",
    "                   connector=sim.AllToAllConnector(),\n",
    "                   synapse_type=SYN,\n",
    "                   receptor_type='excitatory')\n",
    "\n",
    "    SYN = sim.TsodyksMarkramSynapse(weight=abs(WEIGHT_GO_ON_TO_RIGHT_ACTOR),\n",
    "                                    delay=DELAY, **syn_params)\n",
    "    sim.Projection(presynaptic_population=CIRCUIT[5:6],\n",
    "                   postsynaptic_population=CIRCUIT[7:8],\n",
    "                   connector=sim.AllToAllConnector(),\n",
    "                   synapse_type=SYN,\n",
    "                   receptor_type='excitatory')\n",
    "\n",
    "    return population\n",
    "    \n",
    "def plot(population):\n",
    "    vm = population.get_data().segments[0].filter(name=\"v\")[0]\n",
    "    from pyNN.utility.plotting import Figure, Panel\n",
    "    from quantities import mV\n",
    "    figure_filename = filename.replace(\"pkl\", \"png\")\n",
    "    fig = Figure(\n",
    "        Panel(vm, y_offset=-10 * mV, xticks=True, yticks=True,\n",
    "              xlabel=\"Time (ms)\", ylabel=\"Membrane potential (mV)\",\n",
    "              ylim=(-96, -59)),\n",
    "        title=\"Current injection example\",\n",
    "        annotations=\"Simulated with nest\"\n",
    "    )"
   ]
  },
  {
   "cell_type": "code",
   "execution_count": 35,
   "metadata": {
    "scrolled": true
   },
   "outputs": [
    {
     "data": {
      "image/png": "[encoded data removed]",
      "text/plain": [
       "<Figure size 432x230.4 with 1 Axes>"
      ]
     },
     "metadata": {
      "needs_background": "light"
     },
     "output_type": "display_data"
    }
   ],
   "source": [
    "\n",
    "\n",
    "sim.setup()\n",
    "\n",
    "population=get_pop()\n",
    "sim.initialize(population, v=population.get('v_rest'))\n",
    "# sim.reset()\n",
    "\n",
    "current_sources = [sim.StepCurrentSource(times=[50.0, 210.0, 250.0, 410.0],\n",
    "                                         amplitudes=[0.4, 0.6, -0.2, 0.2]),\n",
    "                   sim.ACSource(start=50.0, stop=450.0, amplitude=0.2,\n",
    "                                offset=0.1, frequency=10.0, phase=180.0),\n",
    "                   sim.NoisyCurrentSource(mean=0.5, stdev=0.2, start=50.0,\n",
    "                                          stop=450.0, dt=1.0)]\n",
    "\n",
    "noisi = sim.NoisyCurrentSource(mean=0.5, stdev=0.2, start=50.0, stop=450.0, dt=1.0)\n",
    "\n",
    "# population[0].inject(noisi)\n",
    "\n",
    "for cell, current_source in zip(population, current_sources):\n",
    "    cell.inject(current_source)\n",
    "\n",
    "filename = normalized_filename(\"Results\", \"current_injection\", \"pkl\", \"nest\")\n",
    "sim.record('v', population, filename, annotations={'script_name': filename})\n",
    "\n",
    "# === Run the simulation =====================================================\n",
    "\n",
    "sim.run(500.0)\n",
    "\n",
    "plot(population)\n",
    "\n",
    "# sim.stop()"
   ]
  },
  {
   "cell_type": "code",
   "execution_count": 38,
   "metadata": {
    "scrolled": true
   },
   "outputs": [
    {
     "data": {
      "image/png": "[encoded data removed]",
      "text/plain": [
       "<Figure size 432x230.4 with 1 Axes>"
      ]
     },
     "metadata": {
      "needs_background": "light"
     },
     "output_type": "display_data"
    }
   ],
   "source": [
    "from pyNN.utility import get_script_args\n",
    "from pyNN.errors import RecordingError\n",
    "from pyNN.nest import *\n",
    "\n",
    "# exec(\"from pyNN.%s import *\" % simulator_name)\n",
    "\n",
    "\n",
    "setup(timestep=0.1,min_delay=0.1,max_delay=4.0)\n",
    "\n",
    "ifcell = create(IF_cond_exp, {  'i_offset' : 0.1,    'tau_refrac' : 3.0,\n",
    "                                'v_thresh' : -51.0,  'tau_syn_E'  : 2.0,\n",
    "                                'tau_syn_I': 5.0,    'v_reset'    : -70.0,\n",
    "                                'e_rev_E'  : 0.,     'e_rev_I'    : -80.})\n",
    "\n",
    "splie_sourceI = create(SpikeSourcePoisson,  {'start': 0.0, 'duration': 10000000000.0, 'rate': 100.0})\n",
    "splie_sourceE = create(SpikeSourcePoisson,  {'start': 0.0, 'duration': 10000000000.0, 'rate': 1000.0})\n",
    "\n",
    "connE = connect(spike_sourceE, ifcell, weight=0.006, receptor_type='excitatory',delay=2.0)\n",
    "connI = connect(spike_sourceI, ifcell, weight=0.02, receptor_type ='inhibitory',delay=4.0)\n",
    "    \n",
    "record_v(ifcell, \"Results/IF_cond_exp_nest.v\")\n",
    "try:\n",
    "    record_gsyn(ifcell, \"Results/IF_cond_exp_nest.gsyn\")\n",
    "except (NotImplementedError, RecordingError):\n",
    "    pass\n",
    "run(200.0)\n",
    "\n",
    "plot(ifcell)"
   ]
  },
  {
   "cell_type": "code",
   "execution_count": 14,
   "metadata": {},
   "outputs": [],
   "source": [
    "connect?"
   ]
  }
 ],
 "metadata": {
  "kernelspec": {
   "display_name": "Python 3",
   "language": "python",
   "name": "python3"
  },
  "language_info": {
   "codemirror_mode": {
    "name": "ipython",
    "version": 3
   },
   "file_extension": ".py",
   "mimetype": "text/x-python",
   "name": "python",
   "nbconvert_exporter": "python",
   "pygments_lexer": "ipython3",
   "version": "3.7.3"
  }
 },
 "nbformat": 4,
 "nbformat_minor": 2
}
