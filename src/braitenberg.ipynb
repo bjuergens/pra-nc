{
 "cells": [
  {
   "cell_type": "code",
   "execution_count": 1,
   "metadata": {
    "scrolled": false
   },
   "outputs": [
    {
     "name": "stderr",
     "output_type": "stream",
     "text": [
      "/opt/conda/lib/python3.7/site-packages/pyNN/nest/__init__.py:55: UserWarning: Unable to install NEST extensions. Certain models may not be available.\n",
      "Further details: DynamicModuleManagementError in Install: Module 'pynn_extensions' could not be opened.\n",
      "The dynamic loader returned the following error: 'file not found'.\n",
      "\n",
      "Please check LD_LIBRARY_PATH (OSX: DYLD_LIBRARY_PATH)!\n",
      "  warnings.warn(\"Unable to install NEST extensions. Certain models may not be available.\\nFurther details: {}\".format(err))\n"
     ]
    }
   ],
   "source": [
    "\n",
    "import pyNN.nest as sim\n",
    "from pyNN.utility import get_simulator, normalized_filename\n",
    "\n",
    "import numpy as np\n",
    "\n",
    "def get_pop():\n",
    "\n",
    "    SENSORPARAMS = {'v_rest': -60.5,\n",
    "                    'cm': 0.025,\n",
    "                    'tau_m': 10.,\n",
    "                    'tau_refrac': 10.0,\n",
    "                    'tau_syn_E': 2.5,\n",
    "                    'tau_syn_I': 2.5,\n",
    "                    'e_rev_E': 0.0,\n",
    "                    'e_rev_I': -75.0,\n",
    "                    'v_thresh': -60.0,\n",
    "                    'v_reset': -60.5}\n",
    "\n",
    "    GO_ON_PARAMS = {'v_rest': -60.5,\n",
    "                    'cm': 0.025,\n",
    "                    'tau_m': 10.0,\n",
    "                    'e_rev_E': 0.0,\n",
    "                    'e_rev_I': -75.0,\n",
    "                    'v_reset': -61.6,\n",
    "                    'v_thresh': -60.51,\n",
    "                    'tau_refrac': 10.0,\n",
    "                    'tau_syn_E': 2.5,\n",
    "                    'tau_syn_I': 2.5}\n",
    "\n",
    "    population = sim.Population(8, sim.IF_cond_alpha())\n",
    "    population[0:5].set(**SENSORPARAMS)\n",
    "    population[5:6].set(**GO_ON_PARAMS)\n",
    "    population[6:8].set(**SENSORPARAMS)\n",
    "\n",
    "    syn_params = {'U': 1.0, 'tau_rec': 1.0, 'tau_facil': 1.0}\n",
    "\n",
    "    # Synaptic weights\n",
    "    WEIGHT_RED_TO_ACTOR = 1.5e-4\n",
    "    WEIGHT_RED_TO_GO_ON = 1.2e-3  # or -1.2e-3?\n",
    "    WEIGHT_GREEN_BLUE_TO_ACTOR = 1.05e-4\n",
    "    WEIGHT_GO_ON_TO_RIGHT_ACTOR = 1.4e-4\n",
    "    DELAY = 1\n",
    "\n",
    "    # Connect neurons\n",
    "    CIRCUIT = population\n",
    "\n",
    "    SYN = sim.TsodyksMarkramSynapse(weight=abs(WEIGHT_RED_TO_ACTOR),\n",
    "                                    delay=DELAY, **syn_params)\n",
    "    sim.Projection(presynaptic_population=CIRCUIT[2:3],\n",
    "                   postsynaptic_population=CIRCUIT[7:8],\n",
    "                   connector=sim.AllToAllConnector(),\n",
    "                   synapse_type=SYN,\n",
    "                   receptor_type='excitatory')\n",
    "    sim.Projection(presynaptic_population=CIRCUIT[3:4],\n",
    "                   postsynaptic_population=CIRCUIT[6:7],\n",
    "                   connector=sim.AllToAllConnector(),\n",
    "                   synapse_type=SYN,\n",
    "                   receptor_type='excitatory')\n",
    "\n",
    "\n",
    "    SYN = sim.TsodyksMarkramSynapse(weight=abs(WEIGHT_RED_TO_GO_ON),\n",
    "                                    delay=DELAY, **syn_params)\n",
    "    sim.Projection(presynaptic_population=CIRCUIT[0:2],\n",
    "                   postsynaptic_population=CIRCUIT[4:5],\n",
    "                   connector=sim.AllToAllConnector(),\n",
    "                   synapse_type=SYN,\n",
    "                   receptor_type='inhibitory')\n",
    "    sim.Projection(presynaptic_population=CIRCUIT[0:2],\n",
    "                   postsynaptic_population=CIRCUIT[5:6],\n",
    "                   connector=sim.AllToAllConnector(),\n",
    "                   synapse_type=SYN,\n",
    "                   receptor_type='inhibitory')\n",
    "\n",
    "    SYN = sim.TsodyksMarkramSynapse(weight=abs(WEIGHT_GREEN_BLUE_TO_ACTOR),\n",
    "                                    delay=DELAY, **syn_params)\n",
    "    sim.Projection(presynaptic_population=CIRCUIT[4:5],\n",
    "                   postsynaptic_population=CIRCUIT[7:8],\n",
    "                   connector=sim.AllToAllConnector(),\n",
    "                   synapse_type=SYN,\n",
    "                   receptor_type='excitatory')\n",
    "\n",
    "    SYN = sim.TsodyksMarkramSynapse(weight=abs(WEIGHT_GO_ON_TO_RIGHT_ACTOR),\n",
    "                                    delay=DELAY, **syn_params)\n",
    "    sim.Projection(presynaptic_population=CIRCUIT[5:6],\n",
    "                   postsynaptic_population=CIRCUIT[7:8],\n",
    "                   connector=sim.AllToAllConnector(),\n",
    "                   synapse_type=SYN,\n",
    "                   receptor_type='excitatory')\n",
    "\n",
    "    return population    "
   ]
  },
  {
   "cell_type": "code",
   "execution_count": 2,
   "metadata": {
    "scrolled": true
   },
   "outputs": [],
   "source": [
    "\n",
    "\n",
    "sim.setup(timestep=0.1,min_delay=0.1,max_delay=4.0)\n",
    "population=get_pop()\n",
    "sim.initialize(population, v=population.get('v_rest'))\n",
    "\n",
    "sspoi_red_left_eye = sim.create(sim.SpikeSourcePoisson,  {'start': 0.0, 'duration': 10000000000.0, 'rate': 0.0})\n",
    "sspoi_red_right_eye = sim.create(sim.SpikeSourcePoisson,  {'start': 0.0, 'duration': 10000000000.0, 'rate': 0.0})\n",
    "sspoi_green_blue_eye = sim.create(sim.SpikeSourcePoisson,  {'start': 0.0, 'duration': 10000000000.0, 'rate': 0.0})\n",
    "\n",
    "connE = sim.connect(sspoi_red_left_eye, population[slice(0, 3, 2)], weight=1.0, receptor_type='excitatory',delay=2.0)\n",
    "connE = sim.connect(sspoi_red_right_eye, population[slice(1, 4, 2)], weight=1.0, receptor_type='excitatory',delay=2.0)\n",
    "connE = sim.connect(sspoi_green_blue_eye, population[4], weight=1.0, receptor_type='excitatory',delay=2.0)\n",
    "\n",
    "class SetRate(object):\n",
    "    \"\"\"\n",
    "    A callback which changes the firing rate of a population of poisson\n",
    "    processes at a fixed interval.\n",
    "    \"\"\"\n",
    "\n",
    "    def __init__(self, source, interval=20.0):\n",
    "        assert isinstance(source.celltype, sim.SpikeSourcePoisson)\n",
    "        self.source = source\n",
    "        self.interval = interval\n",
    "        self.rate = 0.00001\n",
    "        \n",
    "    def __call__(self, t):\n",
    "        # t: time in ms\n",
    "        try:\n",
    "            self.source.set(rate=self.rate)\n",
    "        except StopIteration:\n",
    "            pass\n",
    "        return t + self.interval\n",
    "\n",
    "interval = 20.0\n",
    "rate_red_left_eye = SetRate(sspoi_red_left_eye, interval)\n",
    "rate_red_right_eye = SetRate(sspoi_red_right_eye, interval)\n",
    "rate_green_blue_eye = SetRate(sspoi_green_blue_eye, interval)\n",
    "\n",
    "population.record('v')\n",
    "population.record('spikes')"
   ]
  },
  {
   "cell_type": "code",
   "execution_count": 3,
   "metadata": {},
   "outputs": [
    {
     "data": {
      "text/plain": [
       "2000.0000000000002"
      ]
     },
     "execution_count": 3,
     "metadata": {},
     "output_type": "execute_result"
    }
   ],
   "source": [
    "\n",
    "rate_red_left_eye.rate = 10000.0\n",
    "rate_red_right_eye.rate = 10000.0\n",
    "rate_green_blue_eye.rate = 10000.0\n",
    "\n",
    "sim.run(400.0, callbacks=[rate_red_left_eye,rate_red_right_eye,rate_green_blue_eye])\n",
    "\n",
    "rate_red_left_eye.rate = 2000\n",
    "rate_red_right_eye.rate = 0.001\n",
    "rate_green_blue_eye.rate = 1000\n",
    "sim.run(400.0, callbacks=[rate_red_left_eye,rate_red_right_eye,rate_green_blue_eye])\n",
    "\n",
    "rate_red_left_eye.rate = 1000\n",
    "rate_red_right_eye.rate = 1000\n",
    "rate_green_blue_eye.rate = 0.001\n",
    "sim.run(400.0, callbacks=[rate_red_left_eye,rate_red_right_eye,rate_green_blue_eye])\n",
    "\n",
    "rate_red_left_eye.rate = 0.001\n",
    "rate_red_right_eye.rate = 1000\n",
    "rate_green_blue_eye.rate = 2000\n",
    "sim.run(400.0, callbacks=[rate_red_left_eye,rate_red_right_eye,rate_green_blue_eye])\n",
    "\n",
    "rate_red_left_eye.rate = 0.001\n",
    "rate_red_right_eye.rate = 0.001\n",
    "rate_green_blue_eye.rate = 100\n",
    "sim.run(400.0, callbacks=[rate_red_left_eye,rate_red_right_eye,rate_green_blue_eye])\n",
    "\n"
   ]
  },
  {
   "cell_type": "code",
   "execution_count": 4,
   "metadata": {},
   "outputs": [
    {
     "data": {
      "application/vnd.jupyter.widget-view+json": {
       "model_id": "ac5cb9a3f00347bf8ae8b5b81dc62e7f",
       "version_major": 2,
       "version_minor": 0
      },
      "text/plain": [
       "FigureCanvasNbAgg()"
      ]
     },
     "metadata": {},
     "output_type": "display_data"
    }
   ],
   "source": [
    "%matplotlib widget\n",
    "import matplotlib.pyplot as plt\n",
    "\n",
    "data_out = population.get_data()\n",
    "\n",
    "vm = data_out.segments[0].filter(name=\"v\")[0]\n",
    "\n",
    "\n",
    "plt.subplot(2, 1, 1)\n",
    "for spiketrain in data_out.segments[0].spiketrains:\n",
    "    y = np.ones_like(spiketrain) * spiketrain.annotations['source_id']\n",
    "    plt.plot(spiketrain, y, '.')\n",
    "    plt.setp(plt.gca().get_xticklabels(), visible=True)\n",
    "\n",
    "    \n",
    "plt.subplot(2, 1, 2)\n",
    "vm = population.get_data().segments[0].filter(name=\"v\")[0]\n",
    "from pyNN.utility.plotting import Figure, Panel\n",
    "from quantities import mV\n",
    "\n",
    "for c in vm.get_channel_index():\n",
    "    label = \"Neuron %d\" % vm.annotations['source_ids'][c]\n",
    "    distancer = c*7\n",
    "    a = np.array(vm[:,c]) + distancer\n",
    "    plt.plot(vm.times, a, label=label)\n",
    "    plt.plot(vm.times, np.full(a.shape, -60.5+ distancer), color='#f5f5f5', linestyle='dashed')\n",
    "plt.ylabel(\"%s (%s)\" % (vm.name, vm.units._dimensionality.string))\n",
    "plt.setp(plt.gca().get_xticklabels(), visible=True)\n",
    "plt.legend()\n",
    "plt.show()\n"
   ]
  },
  {
   "cell_type": "code",
   "execution_count": null,
   "metadata": {},
   "outputs": [],
   "source": []
  },
  {
   "cell_type": "code",
   "execution_count": null,
   "metadata": {},
   "outputs": [],
   "source": []
  }
 ],
 "metadata": {
  "kernelspec": {
   "display_name": "Python 3",
   "language": "python",
   "name": "python3"
  },
  "language_info": {
   "codemirror_mode": {
    "name": "ipython",
    "version": 3
   },
   "file_extension": ".py",
   "mimetype": "text/x-python",
   "name": "python",
   "nbconvert_exporter": "python",
   "pygments_lexer": "ipython3",
   "version": "3.7.3"
  }
 },
 "nbformat": 4,
 "nbformat_minor": 2
}
